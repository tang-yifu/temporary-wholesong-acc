{
 "cells": [
  {
   "cell_type": "code",
   "execution_count": 2,
   "metadata": {},
   "outputs": [
    {
     "name": "stdout",
     "output_type": "stream",
     "text": [
      "default default default default\n",
      "Description of the experiment is: m0-v-default-default\n",
      "m1-v-default-default\n",
      "m2-v-default-default\n",
      "m3-v-default-default\n"
     ]
    }
   ],
   "source": [
    "# whole_song_gen_notebook.ipynb\n",
    "\n",
    "# Import necessary libraries\n",
    "from experiments.whole_song_gen import WholeSongGeneration\n",
    "import torch\n",
    "\n",
    "# Default model folders and demo directory\n",
    "DEFAULT_FRM_MODEL_FOLDER = 'results_default/frm---/v-default'\n",
    "DEFAULT_CTP_MODEL_FOLDER = 'results_default/ctp-a-b-/v-default'\n",
    "DEFAULT_LSH_MODEL_FOLDER = 'results_default/lsh-a-b-/v-default'\n",
    "DEFAULT_ACC_MODEL_FOLDER = 'results_default/acc-a-b-/v-default'\n",
    "DEFAULT_DEMO_DIR = 'demo'\n",
    "\n",
    "# Set the argument values directly\n",
    "args = {\n",
    "    'demo_dir': DEFAULT_DEMO_DIR,\n",
    "    'mpath0': DEFAULT_FRM_MODEL_FOLDER,\n",
    "    'mid0': 'default',\n",
    "    'mpath1': DEFAULT_CTP_MODEL_FOLDER,\n",
    "    'mid1': 'default',\n",
    "    'mpath2': DEFAULT_LSH_MODEL_FOLDER,\n",
    "    'mid2': 'default',\n",
    "    'mpath3': DEFAULT_ACC_MODEL_FOLDER,\n",
    "    'mid3': 'default',\n",
    "    'nsample': 1,\n",
    "    'pstring': None,\n",
    "    'nbpm': 4,\n",
    "    'key': 0,\n",
    "    'minor': False,\n",
    "    'debug': False\n",
    "}\n",
    "\n",
    "# Check available device\n",
    "if torch.cuda.is_available():\n",
    "    device = torch.device('cuda')\n",
    "elif torch.backends.mps.is_available():\n",
    "    device = torch.device('mps')\n",
    "else:\n",
    "    device = torch.device('cpu')\n",
    "\n",
    "# Initialize the whole song generation pipeline\n",
    "whole_song_expr = WholeSongGeneration.init_pipeline(\n",
    "    frm_model_folder=args['mpath0'],\n",
    "    ctp_model_folder=args['mpath1'],\n",
    "    lsh_model_folder=args['mpath2'],\n",
    "    acc_model_folder=args['mpath3'],\n",
    "    frm_model_id=args['mid0'],\n",
    "    ctp_model_id=args['mid1'],\n",
    "    lsh_model_id=args['mid2'],\n",
    "    acc_model_id=args['mid3'],\n",
    "    debug_mode=args['debug'],\n",
    "    device=device\n",
    ")\n"
   ]
  },
  {
   "cell_type": "code",
   "execution_count": 3,
   "metadata": {},
   "outputs": [],
   "source": [
    "whole_song_expr.frm_op.data_params = {'max_l': 8, 'h': 16, 'n_channel': 8, 'cur_channel': 8}"
   ]
  },
  {
   "cell_type": "markdown",
   "metadata": {},
   "source": [
    "##### here we break down the main() method of WholeSongGeneration class\n",
    "\n",
    "\n",
    "# Generate whole song\n",
    "whole_song_expr.main(\n",
    "    n_sample=args['nsample'],\n",
    "    nbpm=args['nbpm'],\n",
    "    nspb=4,  # assuming nspb is a constant value\n",
    "    phrase_string=args['pstring'],\n",
    "    key=args['key'],\n",
    "    is_major=args['minor'],\n",
    "    demo_dir=args['demo_dir']\n",
    ")\n"
   ]
  },
  {
   "cell_type": "code",
   "execution_count": 4,
   "metadata": {},
   "outputs": [],
   "source": [
    "import numpy as np\n",
    "from inference.utils import quantize_generated_form_batch, specify_form\n",
    "\n",
    "n_sample=args['nsample']\n",
    "nbpm=args['nbpm']\n",
    "nspb=4  # assuming nspb is a constant value\n",
    "phrase_string=args['pstring']\n",
    "key=args['key']\n",
    "is_major=args['minor']\n",
    "demo_dir=args['demo_dir']\n",
    "bpm = 90\n"
   ]
  },
  {
   "cell_type": "code",
   "execution_count": 5,
   "metadata": {},
   "outputs": [
    {
     "name": "stdout",
     "output_type": "stream",
     "text": [
      "Form generation...\n"
     ]
    },
    {
     "data": {
      "text/html": [
       "<pre style=\"overflow-x: scroll;\">Sample...</pre>"
      ],
      "text/plain": [
       "<IPython.core.display.HTML object>"
      ]
     },
     "metadata": {},
     "output_type": "display_data"
    },
    {
     "name": "stdout",
     "output_type": "stream",
     "text": [
      "Length of the song: 8, phrase_label:\n",
      "0: i8\n",
      "\n"
     ]
    }
   ],
   "source": [
    "## form generation\n",
    "print(\"Form generation...\")\n",
    "frm_canvas, slices, gen_max_l = whole_song_expr.frm_op.create_canvas(n_sample=1, prompt=None)\n",
    "frm_1 = whole_song_expr.frm_op.generation(frm_canvas, slices, gen_max_l, quantize=False, n_sample=1)\n",
    "frm_2, lengths, phrase_labels = quantize_generated_form_batch(frm_1)\n",
    "print(f\"Length of the song: {lengths[0]}, phrase_label:\\n{phrase_labels[0]}\")\n",
    "frm = frm_2[:, :, 0: lengths[0]]\n",
    "phrase_string = phrase_labels[0]"
   ]
  },
  {
   "cell_type": "code",
   "execution_count": 6,
   "metadata": {},
   "outputs": [
    {
     "name": "stdout",
     "output_type": "stream",
     "text": [
      "Counterpoint generation...\n",
      "Number of iterations: 1\n"
     ]
    },
    {
     "data": {
      "text/html": [
       "<pre style=\"overflow-x: scroll;\">Sample...</pre>"
      ],
      "text/plain": [
       "<IPython.core.display.HTML object>"
      ]
     },
     "metadata": {},
     "output_type": "display_data"
    }
   ],
   "source": [
    "## ctp generation\n",
    "\n",
    "# 加一个prompt\n",
    "# 先改成C调\n",
    "# frm[0][:2,:, :] = frm[0][:2,:, [i for i in range(3,12)] + [0, 1, 2, 12, 13, 14, 15]]\n",
    "# def index_to_one_hot(index, length=128):\n",
    "#     array = np.zeros(length)\n",
    "#     if index>=0:\n",
    "#         array[index] = 1\n",
    "#     return array\n",
    "# prompt = np.array([[[index_to_one_hot(60),\n",
    "#                      index_to_one_hot(-1),\n",
    "#                      index_to_one_hot(-1),\n",
    "#                      index_to_one_hot(-1),\n",
    "#                      index_to_one_hot(62),\n",
    "#                      index_to_one_hot(-1),\n",
    "#                      index_to_one_hot(-1),\n",
    "#                      index_to_one_hot(-1),\n",
    "#                      index_to_one_hot(64),\n",
    "#                      index_to_one_hot(-1),\n",
    "#                      index_to_one_hot(-1),\n",
    "#                      index_to_one_hot(-1),\n",
    "#                      index_to_one_hot(60),\n",
    "#                      index_to_one_hot(-1),\n",
    "#                      index_to_one_hot(-1),\n",
    "#                      index_to_one_hot(-1),\n",
    "#                      index_to_one_hot(60),\n",
    "#                      index_to_one_hot(-1),\n",
    "#                      index_to_one_hot(-1),\n",
    "#                      index_to_one_hot(-1),\n",
    "#                      index_to_one_hot(62),\n",
    "#                      index_to_one_hot(-1),\n",
    "#                      index_to_one_hot(-1),\n",
    "#                      index_to_one_hot(-1),\n",
    "#                      index_to_one_hot(64),\n",
    "#                      index_to_one_hot(-1),\n",
    "#                      index_to_one_hot(-1),\n",
    "#                      index_to_one_hot(-1),\n",
    "#                      index_to_one_hot(60),\n",
    "#                      index_to_one_hot(-1),\n",
    "#                      index_to_one_hot(-1),\n",
    "#                      index_to_one_hot(-1),\n",
    "#                      index_to_one_hot(64),\n",
    "#                      index_to_one_hot(-1),\n",
    "#                      index_to_one_hot(-1),\n",
    "#                      index_to_one_hot(-1),\n",
    "#                      index_to_one_hot(65),\n",
    "#                      index_to_one_hot(-1),\n",
    "#                      index_to_one_hot(-1),\n",
    "#                      index_to_one_hot(-1),\n",
    "#                      index_to_one_hot(67),\n",
    "#                      index_to_one_hot(-1),\n",
    "#                      index_to_one_hot(-1),\n",
    "#                      index_to_one_hot(-1),\n",
    "#                      index_to_one_hot(-1),\n",
    "#                      index_to_one_hot(-1),\n",
    "#                      index_to_one_hot(-1),\n",
    "#                      index_to_one_hot(-1),\n",
    "#                      index_to_one_hot(64),\n",
    "#                      index_to_one_hot(-1),\n",
    "#                      index_to_one_hot(-1),\n",
    "#                      index_to_one_hot(-1),\n",
    "#                      index_to_one_hot(65),\n",
    "#                      index_to_one_hot(-1),\n",
    "#                      index_to_one_hot(-1),\n",
    "#                      index_to_one_hot(-1),\n",
    "#                      index_to_one_hot(67),\n",
    "#                      index_to_one_hot(-1),\n",
    "#                      index_to_one_hot(-1),\n",
    "#                      index_to_one_hot(-1),\n",
    "#                      index_to_one_hot(-1),\n",
    "#                      index_to_one_hot(-1),\n",
    "#                      index_to_one_hot(-1),\n",
    "#                      index_to_one_hot(-1)\n",
    "#                      ],\n",
    "#                     [index_to_one_hot(-1),\n",
    "#                      index_to_one_hot(60),\n",
    "#                      index_to_one_hot(60),\n",
    "#                      index_to_one_hot(60),\n",
    "#                      index_to_one_hot(-1),\n",
    "#                      index_to_one_hot(62),\n",
    "#                      index_to_one_hot(62),\n",
    "#                      index_to_one_hot(62),\n",
    "#                      index_to_one_hot(-1),\n",
    "#                      index_to_one_hot(64),\n",
    "#                      index_to_one_hot(64),\n",
    "#                      index_to_one_hot(64),\n",
    "#                      index_to_one_hot(-1),\n",
    "#                      index_to_one_hot(60),\n",
    "#                      index_to_one_hot(60),\n",
    "#                      index_to_one_hot(60),\n",
    "#                      index_to_one_hot(-1),\n",
    "#                      index_to_one_hot(60),\n",
    "#                      index_to_one_hot(60),\n",
    "#                      index_to_one_hot(60),\n",
    "#                      index_to_one_hot(-1),\n",
    "#                      index_to_one_hot(62),\n",
    "#                      index_to_one_hot(62),\n",
    "#                      index_to_one_hot(62),\n",
    "#                      index_to_one_hot(-1),\n",
    "#                      index_to_one_hot(64),\n",
    "#                      index_to_one_hot(64),\n",
    "#                      index_to_one_hot(64),\n",
    "#                      index_to_one_hot(-1),\n",
    "#                      index_to_one_hot(60),\n",
    "#                      index_to_one_hot(60),\n",
    "#                      index_to_one_hot(60),\n",
    "#                      index_to_one_hot(-1),\n",
    "#                      index_to_one_hot(64),\n",
    "#                      index_to_one_hot(64),\n",
    "#                      index_to_one_hot(64),\n",
    "#                      index_to_one_hot(-1),\n",
    "#                      index_to_one_hot(65),\n",
    "#                      index_to_one_hot(65),\n",
    "#                      index_to_one_hot(65),\n",
    "#                      index_to_one_hot(-1),\n",
    "#                      index_to_one_hot(67),\n",
    "#                      index_to_one_hot(67),\n",
    "#                      index_to_one_hot(67),\n",
    "#                      index_to_one_hot(67),\n",
    "#                      index_to_one_hot(67),\n",
    "#                      index_to_one_hot(67),\n",
    "#                      index_to_one_hot(67),\n",
    "#                      index_to_one_hot(-1),\n",
    "#                      index_to_one_hot(64),\n",
    "#                      index_to_one_hot(64),\n",
    "#                      index_to_one_hot(64),\n",
    "#                      index_to_one_hot(-1),\n",
    "#                      index_to_one_hot(65),\n",
    "#                      index_to_one_hot(65),\n",
    "#                      index_to_one_hot(65),\n",
    "#                      index_to_one_hot(-1),\n",
    "#                      index_to_one_hot(67),\n",
    "#                      index_to_one_hot(67),\n",
    "#                      index_to_one_hot(67),\n",
    "#                      index_to_one_hot(67),\n",
    "#                      index_to_one_hot(67),\n",
    "#                      index_to_one_hot(67),\n",
    "#                      index_to_one_hot(67)\n",
    "#                      ]]])\n",
    "\n",
    "print(\"Counterpoint generation...\")\n",
    "background_cond = whole_song_expr.ctp_op.expand_background(frm, nbpm)\n",
    "\n",
    "ctp_canvas, slices, gen_max_l = \\\n",
    "    whole_song_expr.ctp_op.create_canvas(background_cond, n_sample, nbpm, None, whole_song_expr.random_n_autoreg)\n",
    "print(f\"Number of iterations: {len(slices)}\")\n",
    "ctp = whole_song_expr.ctp_op.generation(ctp_canvas, slices, gen_max_l)\n",
    "ctp = np.stack(ctp, 0)\n"
   ]
  },
  {
   "cell_type": "code",
   "execution_count": 7,
   "metadata": {},
   "outputs": [
    {
     "name": "stdout",
     "output_type": "stream",
     "text": [
      "35 39 42 47 25 37 40 44 28 37 40 45 30 37 42 46 \n",
      "\n",
      "35 39 42 47 35 39 42 47 35 39 42 47 25 37 40 44 25 37 40 44 25 37 40 44 28 37 40 45 30 37 42 46 "
     ]
    }
   ],
   "source": [
    "for time in ctp[0][0,:12,:]:\n",
    "    for note in range(len(time)):\n",
    "        if time[note]>0:\n",
    "            print(note, end=\" \")\n",
    "print(\"\\n\")\n",
    "for time in ctp[0][1,:12,:]:\n",
    "    for note in range(len(time)):\n",
    "        if time[note]>0:\n",
    "            print(note, end=\" \")"
   ]
  },
  {
   "cell_type": "code",
   "execution_count": 8,
   "metadata": {},
   "outputs": [
    {
     "data": {
      "text/plain": [
       "(1, 10, 32, 128)"
      ]
     },
     "execution_count": 8,
     "metadata": {},
     "output_type": "execute_result"
    }
   ],
   "source": [
    "ctp.shape"
   ]
  },
  {
   "cell_type": "code",
   "execution_count": 9,
   "metadata": {},
   "outputs": [
    {
     "name": "stdout",
     "output_type": "stream",
     "text": [
      "Lead Sheet generation...\n",
      "Number of iterations: 1\n"
     ]
    },
    {
     "data": {
      "text/html": [
       "<pre style=\"overflow-x: scroll;\">Sample...</pre>"
      ],
      "text/plain": [
       "<IPython.core.display.HTML object>"
      ]
     },
     "metadata": {},
     "output_type": "display_data"
    }
   ],
   "source": [
    "## Lead Sheet generation\n",
    "print(\"Lead Sheet generation...\")\n",
    "background_cond = whole_song_expr.lsh_op.expand_background(ctp, nspb)\n",
    "lsh_canvas, slices, gen_max_l = \\\n",
    "    whole_song_expr.lsh_op.create_canvas(background_cond, n_sample, nbpm, nspb, None, whole_song_expr.random_n_autoreg)\n",
    "print(f\"Number of iterations: {len(slices)}\")\n",
    "lsh = whole_song_expr.lsh_op.generation(lsh_canvas, slices, gen_max_l)\n",
    "lsh = np.stack(lsh, 0)"
   ]
  },
  {
   "cell_type": "code",
   "execution_count": 10,
   "metadata": {},
   "outputs": [
    {
     "name": "stdout",
     "output_type": "stream",
     "text": [
      "Accompaniment generation...\n",
      "Number of iterations: 1\n"
     ]
    },
    {
     "data": {
      "text/html": [
       "<pre style=\"overflow-x: scroll;\">Sample...</pre>"
      ],
      "text/plain": [
       "<IPython.core.display.HTML object>"
      ]
     },
     "metadata": {},
     "output_type": "display_data"
    }
   ],
   "source": [
    "## Accompaniment generation\n",
    "print(\"Accompaniment generation...\")\n",
    "acc_canvas, slices, gen_max_l = \\\n",
    "    whole_song_expr.acc_op.create_canvas(lsh, n_sample, nbpm, nspb, None, whole_song_expr.random_n_autoreg)\n",
    "print(f\"Number of iterations: {len(slices)}\")\n",
    "acc = whole_song_expr.acc_op.generation(acc_canvas, slices, gen_max_l)"
   ]
  },
  {
   "cell_type": "code",
   "execution_count": 11,
   "metadata": {},
   "outputs": [],
   "source": [
    "whole_song_expr.output(acc, phrase_string, key, is_major, demo_dir, bpm)"
   ]
  },
  {
   "cell_type": "code",
   "execution_count": 18,
   "metadata": {},
   "outputs": [
    {
     "data": {
      "text/plain": [
       "9"
      ]
     },
     "execution_count": 18,
     "metadata": {},
     "output_type": "execute_result"
    }
   ],
   "source": [
    "69%12"
   ]
  },
  {
   "cell_type": "code",
   "execution_count": 14,
   "metadata": {},
   "outputs": [
    {
     "data": {
      "text/plain": [
       "[[34, 52, 1],\n",
       " [38, 52, 1],\n",
       " [40, 52, 1],\n",
       " [114, 52, 1],\n",
       " [115, 52, 1],\n",
       " [116, 52, 1],\n",
       " [118, 52, 1],\n",
       " [119, 52, 1],\n",
       " [120, 52, 1],\n",
       " [41, 54, 1],\n",
       " [42, 54, 1],\n",
       " [44, 54, 1],\n",
       " [46, 54, 1],\n",
       " [98, 54, 1],\n",
       " [122, 54, 1],\n",
       " [64, 56, 2],\n",
       " [96, 56, 2],\n",
       " [99, 56, 1],\n",
       " [124, 56, 2],\n",
       " [99, 57, 1],\n",
       " [100, 57, 1],\n",
       " [102, 57, 1],\n",
       " [105, 57, 1],\n",
       " [0, 58, 1],\n",
       " [0, 59, 2],\n",
       " [2, 59, 1],\n",
       " [3, 59, 1],\n",
       " [4, 59, 1],\n",
       " [6, 59, 1],\n",
       " [8, 59, 1],\n",
       " [9, 59, 1],\n",
       " [10, 59, 1],\n",
       " [13, 59, 1],\n",
       " [14, 59, 1],\n",
       " [50, 59, 1],\n",
       " [51, 59, 1],\n",
       " [52, 59, 1],\n",
       " [54, 59, 1],\n",
       " [60, 59, 3],\n",
       " [70, 59, 1],\n",
       " [72, 59, 1],\n",
       " [73, 59, 1],\n",
       " [76, 59, 3],\n",
       " [106, 59, 1],\n",
       " [108, 59, 1],\n",
       " [110, 59, 1],\n",
       " [121, 59, 1],\n",
       " [126, 59, 1],\n",
       " [18, 49, 1],\n",
       " [19, 49, 1],\n",
       " [20, 49, 1],\n",
       " [25, 49, 1],\n",
       " [28, 49, 3],\n",
       " [68, 49, 1],\n",
       " [80, 49, 1],\n",
       " [81, 49, 1],\n",
       " [82, 49, 1],\n",
       " [83, 49, 1],\n",
       " [84, 49, 1],\n",
       " [86, 49, 1],\n",
       " [92, 49, 1],\n",
       " [95, 49, 1],\n",
       " [126, 50, 1],\n",
       " [32, 52, 1],\n",
       " [33, 52, 1],\n",
       " [34, 52, 1],\n",
       " [35, 52, 1],\n",
       " [36, 52, 2],\n",
       " [38, 52, 1],\n",
       " [112, 52, 1],\n",
       " [114, 52, 1],\n",
       " [115, 52, 1],\n",
       " [120, 52, 1],\n",
       " [113, 53, 1],\n",
       " [40, 54, 1],\n",
       " [42, 54, 1],\n",
       " [43, 54, 1],\n",
       " [46, 54, 1],\n",
       " [47, 54, 1],\n",
       " [88, 54, 1],\n",
       " [89, 54, 1],\n",
       " [96, 54, 2],\n",
       " [116, 54, 1],\n",
       " [118, 54, 1],\n",
       " [122, 54, 2],\n",
       " [90, 56, 1],\n",
       " [96, 56, 1],\n",
       " [110, 56, 1],\n",
       " [119, 56, 1],\n",
       " [124, 56, 2],\n",
       " [127, 56, 1],\n",
       " [98, 57, 1],\n",
       " [100, 57, 1],\n",
       " [102, 57, 2],\n",
       " [104, 57, 1],\n",
       " [106, 57, 1],\n",
       " [4, 59, 1],\n",
       " [49, 59, 1],\n",
       " [50, 59, 1],\n",
       " [51, 59, 1],\n",
       " [52, 59, 2],\n",
       " [54, 59, 1],\n",
       " [55, 59, 1],\n",
       " [57, 59, 1],\n",
       " [58, 59, 1],\n",
       " [59, 59, 1],\n",
       " [61, 59, 2],\n",
       " [64, 59, 1],\n",
       " [66, 59, 1],\n",
       " [67, 59, 1],\n",
       " [68, 59, 1],\n",
       " [70, 59, 1],\n",
       " [71, 59, 1],\n",
       " [73, 59, 1],\n",
       " [74, 59, 1],\n",
       " [78, 59, 1],\n",
       " [105, 59, 1],\n",
       " [108, 59, 2],\n",
       " [111, 59, 1],\n",
       " [1, 61, 1],\n",
       " [2, 61, 1],\n",
       " [3, 61, 1],\n",
       " [5, 61, 1],\n",
       " [13, 61, 1],\n",
       " [28, 61, 3],\n",
       " [80, 61, 1],\n",
       " [81, 61, 1],\n",
       " [82, 61, 1],\n",
       " [83, 61, 1],\n",
       " [84, 61, 1],\n",
       " [86, 61, 1],\n",
       " [87, 61, 1],\n",
       " [94, 61, 2],\n",
       " [7, 62, 1],\n",
       " [25, 63, 1],\n",
       " [32, 64, 1],\n",
       " [34, 64, 1],\n",
       " [36, 64, 1],\n",
       " [38, 64, 1],\n",
       " [88, 64, 1],\n",
       " [90, 64, 1],\n",
       " [92, 64, 2],\n",
       " [112, 64, 1],\n",
       " [114, 64, 1],\n",
       " [118, 64, 1],\n",
       " [35, 66, 1],\n",
       " [40, 66, 1],\n",
       " [42, 66, 1],\n",
       " [44, 66, 1],\n",
       " [46, 66, 2],\n",
       " [52, 66, 2],\n",
       " [115, 66, 1],\n",
       " [120, 67, 1],\n",
       " [122, 67, 1],\n",
       " [37, 68, 1],\n",
       " [96, 68, 2],\n",
       " [116, 68, 2],\n",
       " [124, 68, 4],\n",
       " [98, 69, 1],\n",
       " [99, 69, 1],\n",
       " [100, 69, 1],\n",
       " [102, 69, 1],\n",
       " [14, 71, 2],\n",
       " [104, 71, 1],\n",
       " [106, 71, 1],\n",
       " [108, 71, 2],\n",
       " [110, 71, 1],\n",
       " [92, 72, 4],\n",
       " [76, 75, 5],\n",
       " [72, 76, 1],\n",
       " [74, 76, 2],\n",
       " [78, 76, 1],\n",
       " [53, 77, 1],\n",
       " [46, 78, 1],\n",
       " [114, 78, 1],\n",
       " [54, 79, 1],\n",
       " [55, 79, 1],\n",
       " [115, 79, 1],\n",
       " [118, 79, 1],\n",
       " [112, 80, 1],\n",
       " [115, 80, 1],\n",
       " [116, 80, 1],\n",
       " [120, 80, 1],\n",
       " [124, 80, 4],\n",
       " [113, 81, 1],\n",
       " [121, 82, 2]]"
      ]
     },
     "execution_count": 14,
     "metadata": {},
     "output_type": "execute_result"
    }
   ],
   "source": [
    "from data_utils.midi_output import piano_roll_to_note_mat, note_mat_to_notes, create_pm_object\n",
    "\n",
    "piano_roll_to_note_mat(acc[0][0:2], True)"
   ]
  },
  {
   "cell_type": "code",
   "execution_count": 20,
   "metadata": {},
   "outputs": [
    {
     "data": {
      "text/plain": [
       "array([[[0., 0., 0., 0., 0., 0., 0., 1., 0., 0., 0., 0.],\n",
       "        [0., 0., 0., 0., 0., 0., 0., 1., 0., 0., 0., 0.],\n",
       "        [0., 0., 0., 0., 0., 0., 0., 1., 0., 0., 0., 0.],\n",
       "        [0., 0., 0., 0., 0., 0., 0., 1., 0., 0., 0., 0.],\n",
       "        [0., 0., 0., 0., 0., 0., 0., 1., 0., 0., 0., 0.]],\n",
       "\n",
       "       [[1., 0., 1., 0., 1., 0., 1., 1., 0., 1., 0., 1.],\n",
       "        [1., 0., 1., 0., 1., 0., 1., 1., 0., 1., 0., 1.],\n",
       "        [1., 0., 1., 0., 1., 0., 1., 1., 0., 1., 0., 1.],\n",
       "        [1., 0., 1., 0., 1., 0., 1., 1., 0., 1., 0., 1.],\n",
       "        [1., 0., 1., 0., 1., 0., 1., 1., 0., 1., 0., 1.]]])"
      ]
     },
     "execution_count": 20,
     "metadata": {},
     "output_type": "execute_result"
    }
   ],
   "source": [
    "acc[0][6:8, 0:5, :12]"
   ]
  },
  {
   "cell_type": "code",
   "execution_count": 12,
   "metadata": {},
   "outputs": [
    {
     "ename": "NameError",
     "evalue": "name 'done' is not defined",
     "output_type": "error",
     "traceback": [
      "\u001b[0;31m---------------------------------------------------------------------------\u001b[0m",
      "\u001b[0;31mNameError\u001b[0m                                 Traceback (most recent call last)",
      "Cell \u001b[0;32mIn[12], line 1\u001b[0m\n\u001b[0;32m----> 1\u001b[0m \u001b[43mdone\u001b[49m\n",
      "\u001b[0;31mNameError\u001b[0m: name 'done' is not defined"
     ]
    }
   ],
   "source": [
    "done"
   ]
  },
  {
   "cell_type": "code",
   "execution_count": null,
   "metadata": {},
   "outputs": [
    {
     "data": {
      "text/plain": [
       "(10, 40, 128)"
      ]
     },
     "execution_count": 11,
     "metadata": {},
     "output_type": "execute_result"
    }
   ],
   "source": [
    "ctp[0].shape"
   ]
  },
  {
   "cell_type": "code",
   "execution_count": null,
   "metadata": {},
   "outputs": [
    {
     "data": {
      "text/plain": [
       "array([[0. , 0. , 0. , ..., 0. , 0. , 0. ],\n",
       "       [0. , 0. , 0. , ..., 0. , 0. , 0. ],\n",
       "       [0. , 0. , 0. , ..., 0. , 0. , 0. ],\n",
       "       ...,\n",
       "       [0.8, 0.8, 0.8, ..., 0.8, 0.8, 0.8],\n",
       "       [0. , 0. , 0. , ..., 0. , 0. , 0. ],\n",
       "       [0. , 0. , 0. , ..., 0. , 0. , 0. ]])"
      ]
     },
     "execution_count": 12,
     "metadata": {},
     "output_type": "execute_result"
    }
   ],
   "source": [
    "ctp[0].repeat(4,axis=1)[:,32,:]"
   ]
  },
  {
   "cell_type": "code",
   "execution_count": null,
   "metadata": {},
   "outputs": [
    {
     "data": {
      "text/plain": [
       "array([[0. , 0. , 0. , ..., 0. , 0. , 0. ],\n",
       "       [0. , 0. , 0. , ..., 0. , 0. , 0. ],\n",
       "       [0. , 0. , 0. , ..., 0. , 0. , 0. ],\n",
       "       ...,\n",
       "       [0.8, 0.8, 0.8, ..., 0.8, 0.8, 0.8],\n",
       "       [0. , 0. , 0. , ..., 0. , 0. , 0. ],\n",
       "       [0. , 0. , 0. , ..., 0. , 0. , 0. ]])"
      ]
     },
     "execution_count": 13,
     "metadata": {},
     "output_type": "execute_result"
    }
   ],
   "source": [
    "lsh[0][:,32,:]"
   ]
  },
  {
   "cell_type": "code",
   "execution_count": null,
   "metadata": {},
   "outputs": [
    {
     "data": {
      "text/plain": [
       "(14, 160, 128)"
      ]
     },
     "execution_count": 14,
     "metadata": {},
     "output_type": "execute_result"
    }
   ],
   "source": [
    "acc[0].shape"
   ]
  },
  {
   "cell_type": "code",
   "execution_count": null,
   "metadata": {},
   "outputs": [
    {
     "data": {
      "text/plain": [
       "(12, 160, 128)"
      ]
     },
     "execution_count": 15,
     "metadata": {},
     "output_type": "execute_result"
    }
   ],
   "source": [
    "lsh[0].shape"
   ]
  },
  {
   "cell_type": "code",
   "execution_count": null,
   "metadata": {},
   "outputs": [
    {
     "data": {
      "text/plain": [
       "array([[  0,   1,  35],\n",
       "       [  0,   1,  39],\n",
       "       [  0,   1,  42],\n",
       "       [  0,   1,  46],\n",
       "       [  0,   1,  47],\n",
       "       [  0,   2,  35],\n",
       "       [  0,   2,  39],\n",
       "       [  0,   2,  42],\n",
       "       [  0,   2,  46],\n",
       "       [  0,   2,  47],\n",
       "       [  0,   3,  35],\n",
       "       [  0,   3,  39],\n",
       "       [  0,   3,  42],\n",
       "       [  0,   3,  46],\n",
       "       [  0,   3,  47],\n",
       "       [  0,  17,  32],\n",
       "       [  0,  17,  39],\n",
       "       [  0,  17,  42],\n",
       "       [  0,  17,  44],\n",
       "       [  0,  17,  47],\n",
       "       [  0,  18,  32],\n",
       "       [  0,  18,  39],\n",
       "       [  0,  18,  42],\n",
       "       [  0,  18,  44],\n",
       "       [  0,  18,  47],\n",
       "       [  0,  19,  32],\n",
       "       [  0,  19,  39],\n",
       "       [  0,  19,  42],\n",
       "       [  0,  19,  44],\n",
       "       [  0,  19,  47],\n",
       "       [  0,  33,  35],\n",
       "       [  0,  33,  39],\n",
       "       [  0,  33,  42],\n",
       "       [  0,  33,  47],\n",
       "       [  0,  34,  35],\n",
       "       [  0,  34,  39],\n",
       "       [  0,  34,  42],\n",
       "       [  0,  34,  47],\n",
       "       [  0,  35,  35],\n",
       "       [  0,  35,  39],\n",
       "       [  0,  35,  42],\n",
       "       [  0,  35,  47],\n",
       "       [  0,  49,  32],\n",
       "       [  0,  49,  39],\n",
       "       [  0,  49,  42],\n",
       "       [  0,  49,  44],\n",
       "       [  0,  49,  47],\n",
       "       [  0,  50,  32],\n",
       "       [  0,  50,  39],\n",
       "       [  0,  50,  42],\n",
       "       [  0,  50,  44],\n",
       "       [  0,  50,  47],\n",
       "       [  0,  51,  32],\n",
       "       [  0,  51,  39],\n",
       "       [  0,  51,  42],\n",
       "       [  0,  51,  44],\n",
       "       [  0,  51,  47],\n",
       "       [  0,  65,  27],\n",
       "       [  0,  65,  39],\n",
       "       [  0,  65,  42],\n",
       "       [  0,  65,  47],\n",
       "       [  0,  66,  27],\n",
       "       [  0,  66,  39],\n",
       "       [  0,  66,  42],\n",
       "       [  0,  66,  47],\n",
       "       [  0,  67,  27],\n",
       "       [  0,  67,  39],\n",
       "       [  0,  67,  42],\n",
       "       [  0,  67,  47],\n",
       "       [  0,  81,  27],\n",
       "       [  0,  81,  39],\n",
       "       [  0,  81,  42],\n",
       "       [  0,  81,  47],\n",
       "       [  0,  82,  27],\n",
       "       [  0,  82,  39],\n",
       "       [  0,  82,  42],\n",
       "       [  0,  82,  47],\n",
       "       [  0,  83,  27],\n",
       "       [  0,  83,  39],\n",
       "       [  0,  83,  42],\n",
       "       [  0,  83,  47],\n",
       "       [  0,  97,  35],\n",
       "       [  0,  97,  39],\n",
       "       [  0,  97,  42],\n",
       "       [  0,  97,  47],\n",
       "       [  0,  98,  35],\n",
       "       [  0,  98,  39],\n",
       "       [  0,  98,  42],\n",
       "       [  0,  98,  47],\n",
       "       [  0,  99,  35],\n",
       "       [  0,  99,  39],\n",
       "       [  0,  99,  42],\n",
       "       [  0,  99,  47],\n",
       "       [  0, 113,  35],\n",
       "       [  0, 113,  39],\n",
       "       [  0, 113,  42],\n",
       "       [  0, 113,  47],\n",
       "       [  0, 113,  75],\n",
       "       [  0, 114,  35],\n",
       "       [  0, 114,  39],\n",
       "       [  0, 114,  42],\n",
       "       [  0, 114,  47],\n",
       "       [  0, 114,  75],\n",
       "       [  0, 115,  35],\n",
       "       [  0, 115,  39],\n",
       "       [  0, 115,  42],\n",
       "       [  0, 115,  47],\n",
       "       [  0, 115,  75],\n",
       "       [  0, 129,  34],\n",
       "       [  0, 129,  37],\n",
       "       [  0, 129,  42],\n",
       "       [  0, 129,  46],\n",
       "       [  0, 130,  34],\n",
       "       [  0, 130,  37],\n",
       "       [  0, 130,  42],\n",
       "       [  0, 130,  46],\n",
       "       [  0, 131,  34],\n",
       "       [  0, 131,  37],\n",
       "       [  0, 131,  42],\n",
       "       [  0, 131,  46],\n",
       "       [  0, 145,  35],\n",
       "       [  0, 145,  39],\n",
       "       [  0, 145,  42],\n",
       "       [  0, 145,  47],\n",
       "       [  0, 145,  75],\n",
       "       [  0, 146,  35],\n",
       "       [  0, 146,  39],\n",
       "       [  0, 146,  42],\n",
       "       [  0, 146,  47],\n",
       "       [  0, 146,  75],\n",
       "       [  0, 147,  35],\n",
       "       [  0, 147,  39],\n",
       "       [  0, 147,  42],\n",
       "       [  0, 147,  47],\n",
       "       [  0, 147,  75],\n",
       "       [  0, 153,  78],\n",
       "       [  0, 154,  78],\n",
       "       [  0, 155,  78],\n",
       "       [  0, 157,  71],\n",
       "       [  0, 158,  71],\n",
       "       [  0, 159,  71],\n",
       "       [  1,   1,  35],\n",
       "       [  1,   1,  39],\n",
       "       [  1,   1,  42],\n",
       "       [  1,   1,  46],\n",
       "       [  1,   1,  47],\n",
       "       [  1,   2,  35],\n",
       "       [  1,   2,  39],\n",
       "       [  1,   2,  42],\n",
       "       [  1,   2,  46],\n",
       "       [  1,   2,  47],\n",
       "       [  1,   3,  35],\n",
       "       [  1,   3,  39],\n",
       "       [  1,   3,  42],\n",
       "       [  1,   3,  46],\n",
       "       [  1,   3,  47],\n",
       "       [  1,  17,  32],\n",
       "       [  1,  17,  39],\n",
       "       [  1,  17,  42],\n",
       "       [  1,  17,  44],\n",
       "       [  1,  17,  47],\n",
       "       [  1,  18,  32],\n",
       "       [  1,  18,  39],\n",
       "       [  1,  18,  42],\n",
       "       [  1,  18,  44],\n",
       "       [  1,  18,  47],\n",
       "       [  1,  19,  32],\n",
       "       [  1,  19,  39],\n",
       "       [  1,  19,  42],\n",
       "       [  1,  19,  44],\n",
       "       [  1,  19,  47],\n",
       "       [  1,  33,  35],\n",
       "       [  1,  33,  39],\n",
       "       [  1,  33,  42],\n",
       "       [  1,  33,  47],\n",
       "       [  1,  34,  35],\n",
       "       [  1,  34,  39],\n",
       "       [  1,  34,  42],\n",
       "       [  1,  34,  47],\n",
       "       [  1,  35,  35],\n",
       "       [  1,  35,  39],\n",
       "       [  1,  35,  42],\n",
       "       [  1,  35,  47],\n",
       "       [  1,  49,  32],\n",
       "       [  1,  49,  39],\n",
       "       [  1,  49,  42],\n",
       "       [  1,  49,  44],\n",
       "       [  1,  49,  47],\n",
       "       [  1,  50,  32],\n",
       "       [  1,  50,  39],\n",
       "       [  1,  50,  42],\n",
       "       [  1,  50,  44],\n",
       "       [  1,  50,  47],\n",
       "       [  1,  51,  32],\n",
       "       [  1,  51,  39],\n",
       "       [  1,  51,  42],\n",
       "       [  1,  51,  44],\n",
       "       [  1,  51,  47],\n",
       "       [  1,  65,  27],\n",
       "       [  1,  65,  39],\n",
       "       [  1,  65,  42],\n",
       "       [  1,  65,  47],\n",
       "       [  1,  66,  27],\n",
       "       [  1,  66,  39],\n",
       "       [  1,  66,  42],\n",
       "       [  1,  66,  47],\n",
       "       [  1,  67,  27],\n",
       "       [  1,  67,  39],\n",
       "       [  1,  67,  42],\n",
       "       [  1,  67,  47],\n",
       "       [  1,  81,  27],\n",
       "       [  1,  81,  39],\n",
       "       [  1,  81,  42],\n",
       "       [  1,  81,  47],\n",
       "       [  1,  82,  27],\n",
       "       [  1,  82,  39],\n",
       "       [  1,  82,  42],\n",
       "       [  1,  82,  47],\n",
       "       [  1,  83,  27],\n",
       "       [  1,  83,  39],\n",
       "       [  1,  83,  42],\n",
       "       [  1,  83,  47],\n",
       "       [  1,  97,  35],\n",
       "       [  1,  97,  39],\n",
       "       [  1,  97,  42],\n",
       "       [  1,  97,  47],\n",
       "       [  1,  98,  35],\n",
       "       [  1,  98,  39],\n",
       "       [  1,  98,  42],\n",
       "       [  1,  98,  47],\n",
       "       [  1,  99,  35],\n",
       "       [  1,  99,  39],\n",
       "       [  1,  99,  42],\n",
       "       [  1,  99,  47],\n",
       "       [  1, 113,  35],\n",
       "       [  1, 113,  39],\n",
       "       [  1, 113,  42],\n",
       "       [  1, 113,  47],\n",
       "       [  1, 113,  75],\n",
       "       [  1, 114,  35],\n",
       "       [  1, 114,  39],\n",
       "       [  1, 114,  42],\n",
       "       [  1, 114,  47],\n",
       "       [  1, 114,  75],\n",
       "       [  1, 115,  35],\n",
       "       [  1, 115,  39],\n",
       "       [  1, 115,  42],\n",
       "       [  1, 115,  47],\n",
       "       [  1, 115,  75],\n",
       "       [  1, 129,  34],\n",
       "       [  1, 129,  37],\n",
       "       [  1, 129,  42],\n",
       "       [  1, 129,  46],\n",
       "       [  1, 130,  34],\n",
       "       [  1, 130,  37],\n",
       "       [  1, 130,  42],\n",
       "       [  1, 130,  46],\n",
       "       [  1, 131,  34],\n",
       "       [  1, 131,  37],\n",
       "       [  1, 131,  42],\n",
       "       [  1, 131,  46],\n",
       "       [  1, 145,  35],\n",
       "       [  1, 145,  39],\n",
       "       [  1, 145,  42],\n",
       "       [  1, 145,  47],\n",
       "       [  1, 145,  75],\n",
       "       [  1, 146,  35],\n",
       "       [  1, 146,  39],\n",
       "       [  1, 146,  42],\n",
       "       [  1, 146,  47],\n",
       "       [  1, 146,  75],\n",
       "       [  1, 147,  35],\n",
       "       [  1, 147,  39],\n",
       "       [  1, 147,  42],\n",
       "       [  1, 147,  47],\n",
       "       [  1, 147,  75],\n",
       "       [  1, 153,  78],\n",
       "       [  1, 154,  78],\n",
       "       [  1, 155,  78],\n",
       "       [  1, 157,  71],\n",
       "       [  1, 158,  71],\n",
       "       [  1, 159,  71]])"
      ]
     },
     "execution_count": 16,
     "metadata": {},
     "output_type": "execute_result"
    }
   ],
   "source": [
    "difference = ctp[0].repeat(4,axis=1) != lsh[0][2:]\n",
    "\n",
    "# Find the indices where the arrays differ\n",
    "different_indices = np.argwhere(difference)\n",
    "different_indices"
   ]
  },
  {
   "cell_type": "code",
   "execution_count": null,
   "metadata": {},
   "outputs": [
    {
     "data": {
      "text/plain": [
       "False"
      ]
     },
     "execution_count": 17,
     "metadata": {},
     "output_type": "execute_result"
    }
   ],
   "source": [
    "(ctp[0].repeat(4,axis=1) == lsh[0][2:]).all()"
   ]
  },
  {
   "cell_type": "code",
   "execution_count": null,
   "metadata": {},
   "outputs": [
    {
     "data": {
      "text/plain": [
       "(10, 160, 128)"
      ]
     },
     "execution_count": 18,
     "metadata": {},
     "output_type": "execute_result"
    }
   ],
   "source": [
    "lsh[0][2:].shape"
   ]
  },
  {
   "cell_type": "code",
   "execution_count": null,
   "metadata": {},
   "outputs": [],
   "source": []
  }
 ],
 "metadata": {
  "kernelspec": {
   "display_name": "venv",
   "language": "python",
   "name": "python3"
  },
  "language_info": {
   "codemirror_mode": {
    "name": "ipython",
    "version": 3
   },
   "file_extension": ".py",
   "mimetype": "text/x-python",
   "name": "python",
   "nbconvert_exporter": "python",
   "pygments_lexer": "ipython3",
   "version": "3.9.19"
  }
 },
 "nbformat": 4,
 "nbformat_minor": 2
}
